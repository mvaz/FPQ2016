{
 "cells": [
  {
   "cell_type": "code",
   "execution_count": 1,
   "metadata": {
    "collapsed": true,
    "slideshow": {
     "slide_type": "skip"
    }
   },
   "outputs": [],
   "source": [
    "%reload_ext autoreload\n",
    "%autoreload 2\n",
    "\n",
    "import warnings\n",
    "warnings.filterwarnings('ignore')"
   ]
  },
  {
   "cell_type": "markdown",
   "metadata": {
    "slideshow": {
     "slide_type": "slide"
    }
   },
   "source": [
    "## Financial Network Models with Python\n",
    "  []()\n",
    "\n",
    "### Miguel Vaz\n",
    "  []()\n",
    "\n",
    "#### For Python Quants Conference\n",
    "NYC, 6$^{th}$ of May 2016\n",
    "\n",
    "http://fpq.io\n",
    "\n",
    "https://github.com/mvaz/FPQ2016"
   ]
  },
  {
   "cell_type": "markdown",
   "metadata": {
    "slideshow": {
     "slide_type": "slide"
    }
   },
   "source": [
    "# About me\n",
    "\n",
    "@migueljvaz\n",
    "\n",
    "- Risk Management (Consulting)\n",
    "   * d-fine GmbH (2012 - )\n",
    "- Software Developer\n",
    "   * 360 Trading Networks (2010-2012)\n",
    "- PhD in Robotics at the Honda Research Institute\n",
    "  - once I saw ASIMO naked (!)"
   ]
  },
  {
   "cell_type": "markdown",
   "metadata": {
    "slideshow": {
     "slide_type": "slide"
    }
   },
   "source": [
    "<div class=\"col-xs-1\"><h1>I</h1></div>\n",
    "<div class=\"col-xs-2\">\n",
    "<img src=\"https://upload.wikimedia.org/wikipedia/commons/thumb/f/f1/Heart_coraz%C3%B3n.svg/75px-Heart_coraz%C3%B3n.svg.png\"/>\n",
    "</div>\n",
    "<div class=\"col-xs-6\"><h1>networks</h1></div>"
   ]
  },
  {
   "cell_type": "markdown",
   "metadata": {
    "slideshow": {
     "slide_type": "subslide"
    }
   },
   "source": [
    "# Why?\n",
    "\n",
    "### Networks give us a way to quantify and reason about concepts that are already familiar to us."
   ]
  },
  {
   "cell_type": "markdown",
   "metadata": {
    "slideshow": {
     "slide_type": "fragment"
    }
   },
   "source": [
    "\"Frankfurt airport is an international **hub**\""
   ]
  },
  {
   "cell_type": "markdown",
   "metadata": {
    "slideshow": {
     "slide_type": "fragment"
    }
   },
   "source": [
    "\"Ebola is a **contagious** disease\""
   ]
  },
  {
   "cell_type": "markdown",
   "metadata": {
    "slideshow": {
     "slide_type": "fragment"
    }
   },
   "source": [
    "\"Lehman was too **central** to be let fail\""
   ]
  },
  {
   "cell_type": "markdown",
   "metadata": {
    "slideshow": {
     "slide_type": "subslide"
    }
   },
   "source": [
    "### Networks are great for representing structure¶"
   ]
  },
  {
   "cell_type": "markdown",
   "metadata": {
    "slideshow": {
     "slide_type": "fragment"
    }
   },
   "source": [
    "... and structure reveals much\n",
    "\n",
    "![](pics/organisation.png)\n",
    "\n",
    "http://www.bonkersworld.net/organizational-charts/"
   ]
  },
  {
   "cell_type": "markdown",
   "metadata": {
    "slideshow": {
     "slide_type": "slide"
    }
   },
   "source": [
    "# Financial Structure: Central Clearing \n",
    "\n",
    "Obligation for certain types of contracts introduced by the \"European Market Infrastructure Regulation (EMIR)\", and \"Dodd–Frank Wall Street Reform and Consumer Protection Act\".\n",
    "\n",
    "![](pics/clearing.png)"
   ]
  },
  {
   "cell_type": "markdown",
   "metadata": {
    "slideshow": {
     "slide_type": "subslide"
    }
   },
   "source": [
    "## Changes the network structure of the system\n",
    "\n",
    "### From\n",
    "![](pics/counterparties_fully_connected.png)\n",
    "\n",
    "\n",
    "### To\n",
    "![](pics/counterparties_clearing.png)"
   ]
  },
  {
   "cell_type": "markdown",
   "metadata": {
    "slideshow": {
     "slide_type": "subslide"
    }
   },
   "source": [
    "### Engaging visualizations\n",
    "\n",
    "Usage of spatial representations makes use of our visual capabilities."
   ]
  },
  {
   "cell_type": "markdown",
   "metadata": {
    "slideshow": {
     "slide_type": "fragment"
    }
   },
   "source": [
    "# Some vocabulary\n",
    "\n",
    "\n",
    "A graph is a set of nodes and edges between them\n",
    "\n",
    "$$G = (V, E)$$\n",
    "\n",
    "The adjacency matrix of $G$ is given by\n",
    "$$A_{i,j}:=\n",
    "\\begin{cases}\n",
    "w(i,j) & \\mbox{if}\\ i \\neq j \\mbox{and}\\ v_i \\mbox{ is adjacent to } v_j \\\\\n",
    "0 & \\mbox{otherwise}\n",
    "\\end{cases}\n",
    "$$\n",
    "\n"
   ]
  },
  {
   "cell_type": "markdown",
   "metadata": {},
   "source": [
    "## Undirected, unweighted graph\n",
    "![](pics/undirected.png)"
   ]
  },
  {
   "cell_type": "markdown",
   "metadata": {},
   "source": [
    "## Undirected, unweighted graph\n",
    "![](pics/directed.png)"
   ]
  },
  {
   "cell_type": "markdown",
   "metadata": {},
   "source": [
    "## Weighted, directed graph\n",
    "![](pics/weighted.png)"
   ]
  },
  {
   "cell_type": "markdown",
   "metadata": {
    "slideshow": {
     "slide_type": "slide"
    }
   },
   "source": [
    "# Network models in Finance\n",
    "\n",
    "Two major use-cases:\n",
    "- Counterparty structure\n",
    "- Agent-based models\n",
    "- Structural inference: network of random variables"
   ]
  },
  {
   "cell_type": "markdown",
   "metadata": {
    "slideshow": {
     "slide_type": "slide"
    }
   },
   "source": [
    "## Counterparty structure: large credit portfolio\n",
    "\n",
    "Exposure to some obligors may be larger than could be expected, because the equity structure implies a loss to a given obligor if another defaults.\n",
    "\n",
    "Diagram only considers equity structure."
   ]
  },
  {
   "cell_type": "markdown",
   "metadata": {},
   "source": [
    "![](pics/credit_portfolio.svg.png)"
   ]
  }
 ],
 "metadata": {
  "celltoolbar": "Slideshow",
  "hide_input": false,
  "kernelspec": {
   "display_name": "Python 3",
   "language": "python",
   "name": "python3"
  },
  "language_info": {
   "codemirror_mode": {
    "name": "ipython",
    "version": 3
   },
   "file_extension": ".py",
   "mimetype": "text/x-python",
   "name": "python",
   "nbconvert_exporter": "python",
   "pygments_lexer": "ipython3",
   "version": "3.5.1"
  }
 },
 "nbformat": 4,
 "nbformat_minor": 0
}
